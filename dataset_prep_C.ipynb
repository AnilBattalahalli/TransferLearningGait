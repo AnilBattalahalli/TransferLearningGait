{
 "cells": [
  {
   "cell_type": "code",
   "execution_count": 1,
   "metadata": {
    "colab": {},
    "colab_type": "code",
    "id": "9Y8-b_oKY2Cl"
   },
   "outputs": [],
   "source": [
    "import PIL\n",
    "import pickle\n",
    "import skimage\n",
    "import os\n",
    "from tqdm import tqdm\n",
    "import numpy as np"
   ]
  },
  {
   "cell_type": "code",
   "execution_count": 2,
   "metadata": {
    "colab": {},
    "colab_type": "code",
    "id": "Xr_mT1GcZagk"
   },
   "outputs": [],
   "source": [
    "X = []\n",
    "y = []\n",
    "l = os.listdir(\"./GaitDatasetC-silh/\")"
   ]
  },
  {
   "cell_type": "code",
   "execution_count": 3,
   "metadata": {
    "colab": {
     "base_uri": "https://localhost:8080/",
     "height": 34
    },
    "colab_type": "code",
    "id": "HnicFQ7qZdrU",
    "outputId": "709c3125-5961-4f77-e19f-dc5306ea5e17"
   },
   "outputs": [
    {
     "name": "stderr",
     "output_type": "stream",
     "text": [
      "100%|██████████| 50/50 [00:21<00:00,  2.30it/s]\n"
     ]
    }
   ],
   "source": [
    "for ind in tqdm(range(0,50)):\n",
    "    i = l[ind]\n",
    "    X = []\n",
    "    for j in os.listdir(\"./GaitDatasetC-silh/\"+i):\n",
    "         for k in os.listdir(\"./GaitDatasetC-silh/\"+i+\"/\"+j):\n",
    "                image = skimage.io.imread(\"./GaitDatasetC-silh/\"+i+\"/\"+j+\"/\"+k, as_gray=True)\n",
    "                X.append(image)\n",
    "    with open(\"./pickles_C/\"+i+\".pkl\",\"wb\") as outfile:\n",
    "        pickle.dump(X,outfile)"
   ]
  }
 ],
 "metadata": {
  "colab": {
   "name": "dataset_prep_C.ipynb",
   "provenance": []
  },
  "kernelspec": {
   "display_name": "Python 3",
   "language": "python",
   "name": "python3"
  },
  "language_info": {
   "codemirror_mode": {
    "name": "ipython",
    "version": 3
   },
   "file_extension": ".py",
   "mimetype": "text/x-python",
   "name": "python",
   "nbconvert_exporter": "python",
   "pygments_lexer": "ipython3",
   "version": "3.8.3"
  }
 },
 "nbformat": 4,
 "nbformat_minor": 4
}
