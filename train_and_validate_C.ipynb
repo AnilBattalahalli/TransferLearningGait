{
 "cells": [
  {
   "cell_type": "code",
   "execution_count": 1,
   "metadata": {},
   "outputs": [],
   "source": [
    "import warnings\n",
    "warnings.simplefilter(\"ignore\")"
   ]
  },
  {
   "cell_type": "code",
   "execution_count": 2,
   "metadata": {
    "colab": {},
    "colab_type": "code",
    "id": "2vPAIFVJawLE"
   },
   "outputs": [],
   "source": [
    "import pickle\n",
    "import tensorflow as tf\n",
    "import numpy as np\n",
    "from sklearn.model_selection import train_test_split\n",
    "from sklearn.preprocessing import LabelEncoder\n",
    "from sklearn.metrics import accuracy_score,confusion_matrix\n",
    "from tensorflow.keras.models import Sequential\n",
    "from tensorflow.keras.layers import Dense, Dropout, Activation, Flatten, Conv2D, MaxPooling2D\n",
    "import os\n",
    "from tqdm import tqdm\n",
    "from tensorflow.keras.utils import to_categorical\n",
    "import matplotlib.pyplot as plt"
   ]
  },
  {
   "cell_type": "code",
   "execution_count": 3,
   "metadata": {
    "colab": {},
    "colab_type": "code",
    "id": "Hd8YvFVZa3DF"
   },
   "outputs": [],
   "source": [
    "l = os.listdir('./pickles_C')"
   ]
  },
  {
   "cell_type": "code",
   "execution_count": 4,
   "metadata": {
    "colab": {
     "base_uri": "https://localhost:8080/",
     "height": 867
    },
    "colab_type": "code",
    "id": "sHlh2RFM5Ed2",
    "outputId": "7953557b-5f46-4f53-bc48-fc9f43f40ca8"
   },
   "outputs": [
    {
     "data": {
      "text/plain": [
       "['014.pkl',\n",
       " '015.pkl',\n",
       " '012.pkl',\n",
       " '013.pkl',\n",
       " '007.pkl',\n",
       " '038.pkl',\n",
       " '103.pkl',\n",
       " '077.pkl',\n",
       " '063.pkl',\n",
       " '062.pkl',\n",
       " '076.pkl',\n",
       " '102.pkl',\n",
       " '048.pkl',\n",
       " '049.pkl',\n",
       " '105.pkl',\n",
       " '065.pkl',\n",
       " '071.pkl',\n",
       " '070.pkl',\n",
       " '104.pkl',\n",
       " '099.pkl',\n",
       " '098.pkl',\n",
       " '135.pkl',\n",
       " '082.pkl',\n",
       " '096.pkl',\n",
       " '041.pkl',\n",
       " '055.pkl',\n",
       " '054.pkl',\n",
       " '040.pkl',\n",
       " '083.pkl',\n",
       " '134.pkl',\n",
       " '078.pkl',\n",
       " '079.pkl',\n",
       " '133.pkl',\n",
       " '084.pkl',\n",
       " '053.pkl',\n",
       " '047.pkl',\n",
       " '046.pkl',\n",
       " '052.pkl',\n",
       " '085.pkl',\n",
       " '091.pkl',\n",
       " '132.pkl',\n",
       " '009.pkl',\n",
       " '022.pkl',\n",
       " '036.pkl',\n",
       " '023.pkl',\n",
       " '150.pkl',\n",
       " '024.pkl',\n",
       " '025.pkl',\n",
       " '031.pkl',\n",
       " '151.pkl']"
      ]
     },
     "execution_count": 4,
     "metadata": {},
     "output_type": "execute_result"
    }
   ],
   "source": [
    "l"
   ]
  },
  {
   "cell_type": "code",
   "execution_count": 5,
   "metadata": {
    "colab": {},
    "colab_type": "code",
    "id": "BeJ59MP4a_Ds"
   },
   "outputs": [],
   "source": [
    "X_temp = []\n",
    "y_temp = []"
   ]
  },
  {
   "cell_type": "code",
   "execution_count": 6,
   "metadata": {
    "colab": {
     "base_uri": "https://localhost:8080/",
     "height": 34
    },
    "colab_type": "code",
    "id": "Ha4GWYl_a_6b",
    "outputId": "6255cc32-b72d-4eff-e88c-044087ea78b1"
   },
   "outputs": [
    {
     "name": "stderr",
     "output_type": "stream",
     "text": [
      "100%|██████████| 50/50 [00:02<00:00, 18.58it/s]\n"
     ]
    }
   ],
   "source": [
    "for i in tqdm(range(0,50)):\n",
    "    with open('./pickles_C/'+l[i],'rb') as infile:\n",
    "        X = pickle.load(infile)\n",
    "    X_temp.extend(X)\n",
    "    y_temp.extend([l[i].split(\".\")[0]]*len(X))"
   ]
  },
  {
   "cell_type": "code",
   "execution_count": 7,
   "metadata": {
    "colab": {
     "base_uri": "https://localhost:8080/",
     "height": 34
    },
    "colab_type": "code",
    "id": "4NP8h4Aa5yt0",
    "outputId": "8bcb0209-25ec-44f6-d879-1a073f86052c"
   },
   "outputs": [
    {
     "data": {
      "text/plain": [
       "753"
      ]
     },
     "execution_count": 7,
     "metadata": {},
     "output_type": "execute_result"
    }
   ],
   "source": [
    "len(X)"
   ]
  },
  {
   "cell_type": "code",
   "execution_count": 8,
   "metadata": {
    "colab": {},
    "colab_type": "code",
    "id": "E5h0U-RBbE4Y"
   },
   "outputs": [],
   "source": [
    "X_temp = np.array(X_temp)"
   ]
  },
  {
   "cell_type": "code",
   "execution_count": 9,
   "metadata": {
    "colab": {},
    "colab_type": "code",
    "id": "vEmWzwj2bHJQ"
   },
   "outputs": [],
   "source": [
    "H,V = X_temp[0].shape"
   ]
  },
  {
   "cell_type": "code",
   "execution_count": 10,
   "metadata": {
    "colab": {},
    "colab_type": "code",
    "id": "PI-PT0zvbJva"
   },
   "outputs": [],
   "source": [
    "X_temp = np.array(X_temp).reshape(-1,H,V,1)"
   ]
  },
  {
   "cell_type": "code",
   "execution_count": 11,
   "metadata": {
    "colab": {
     "base_uri": "https://localhost:8080/",
     "height": 34
    },
    "colab_type": "code",
    "id": "rdwUumnc5fEp",
    "outputId": "20c16e5c-4d44-443b-969b-f8e6ff8c722e"
   },
   "outputs": [
    {
     "data": {
      "text/plain": [
       "(32431, 240, 320, 1)"
      ]
     },
     "execution_count": 11,
     "metadata": {},
     "output_type": "execute_result"
    }
   ],
   "source": [
    "X_temp.shape"
   ]
  },
  {
   "cell_type": "code",
   "execution_count": 12,
   "metadata": {
    "colab": {},
    "colab_type": "code",
    "id": "jdTGkJ2NbK99"
   },
   "outputs": [],
   "source": [
    "enc = LabelEncoder()\n",
    "enc.fit(y_temp)\n",
    "y_lab = enc.transform(y_temp)"
   ]
  },
  {
   "cell_type": "code",
   "execution_count": 13,
   "metadata": {
    "colab": {
     "base_uri": "https://localhost:8080/",
     "height": 34
    },
    "colab_type": "code",
    "id": "cwFCLjGO6JcK",
    "outputId": "885f857d-68b0-490f-9741-7db58ec8abd9"
   },
   "outputs": [
    {
     "data": {
      "text/plain": [
       "array([ 4,  4,  4, ..., 49, 49, 49])"
      ]
     },
     "execution_count": 13,
     "metadata": {},
     "output_type": "execute_result"
    }
   ],
   "source": [
    "y_lab"
   ]
  },
  {
   "cell_type": "code",
   "execution_count": 14,
   "metadata": {
    "colab": {},
    "colab_type": "code",
    "id": "oGmj_e_-bOIy"
   },
   "outputs": [],
   "source": [
    "y_enc = to_categorical(y_lab)"
   ]
  },
  {
   "cell_type": "code",
   "execution_count": 15,
   "metadata": {
    "colab": {
     "base_uri": "https://localhost:8080/",
     "height": 85
    },
    "colab_type": "code",
    "id": "CCYIS_jt6Vkv",
    "outputId": "958b3dfe-c896-44e3-81c8-0d84828ba07d"
   },
   "outputs": [
    {
     "data": {
      "text/plain": [
       "array([0., 0., 0., 0., 1., 0., 0., 0., 0., 0., 0., 0., 0., 0., 0., 0., 0.,\n",
       "       0., 0., 0., 0., 0., 0., 0., 0., 0., 0., 0., 0., 0., 0., 0., 0., 0.,\n",
       "       0., 0., 0., 0., 0., 0., 0., 0., 0., 0., 0., 0., 0., 0., 0., 0.],\n",
       "      dtype=float32)"
      ]
     },
     "execution_count": 15,
     "metadata": {},
     "output_type": "execute_result"
    }
   ],
   "source": [
    "y_enc[0]"
   ]
  },
  {
   "cell_type": "code",
   "execution_count": 16,
   "metadata": {
    "colab": {
     "base_uri": "https://localhost:8080/",
     "height": 34
    },
    "colab_type": "code",
    "id": "cIEXjeja7KyU",
    "outputId": "835fc642-75ef-404e-98f9-1114efddd588"
   },
   "outputs": [
    {
     "data": {
      "text/plain": [
       "50"
      ]
     },
     "execution_count": 16,
     "metadata": {},
     "output_type": "execute_result"
    }
   ],
   "source": [
    "y_enc.shape[1]"
   ]
  },
  {
   "cell_type": "code",
   "execution_count": 17,
   "metadata": {
    "colab": {},
    "colab_type": "code",
    "id": "-vlPR2PObPvg"
   },
   "outputs": [],
   "source": [
    "X_train,X_test,y_train,y_test = train_test_split(X_temp,y_enc)"
   ]
  },
  {
   "cell_type": "code",
   "execution_count": 18,
   "metadata": {
    "colab": {
     "base_uri": "https://localhost:8080/",
     "height": 34
    },
    "colab_type": "code",
    "id": "iWIZIEY16w6N",
    "outputId": "4bf83548-e0c1-436d-f9ce-ad605ff38670"
   },
   "outputs": [
    {
     "data": {
      "text/plain": [
       "(240, 320, 1)"
      ]
     },
     "execution_count": 18,
     "metadata": {},
     "output_type": "execute_result"
    }
   ],
   "source": [
    "X_train.shape[1:]"
   ]
  },
  {
   "cell_type": "code",
   "execution_count": 19,
   "metadata": {
    "colab": {
     "base_uri": "https://localhost:8080/",
     "height": 156
    },
    "colab_type": "code",
    "id": "bAuVb4PZbThV",
    "outputId": "41e4acec-6f69-461c-e1ea-027ef2b451f5"
   },
   "outputs": [
    {
     "name": "stdout",
     "output_type": "stream",
     "text": [
      "WARNING:tensorflow:From /usr/local/lib/python3.7/site-packages/tensorflow/python/ops/init_ops.py:1251: calling VarianceScaling.__init__ (from tensorflow.python.ops.init_ops) with dtype is deprecated and will be removed in a future version.\n",
      "Instructions for updating:\n",
      "Call initializer instance with the dtype argument instead of passing it to the constructor\n",
      "WARNING:tensorflow:From /usr/local/lib/python3.7/site-packages/tensorflow/python/ops/nn_impl.py:180: add_dispatch_support.<locals>.wrapper (from tensorflow.python.ops.array_ops) is deprecated and will be removed in a future version.\n",
      "Instructions for updating:\n",
      "Use tf.where in 2.0, which has the same broadcast rule as np.where\n"
     ]
    }
   ],
   "source": [
    "model = Sequential()\n",
    "model.add(Conv2D(64,(3,3),input_shape=X_train.shape[1:]))\n",
    "model.add(Activation(\"relu\"))\n",
    "model.add(MaxPooling2D(pool_size=(2,2)))\n",
    "model.add(Conv2D(64,(3,3)))\n",
    "model.add(Activation(\"relu\"))\n",
    "model.add(MaxPooling2D(pool_size=(2,2)))\n",
    "model.add(Flatten())\n",
    "model.add(Dense(75,activation=\"relu\"))\n",
    "model.add(Dense(y_enc.shape[1],activation=\"sigmoid\"))\n",
    "model.compile(loss=\"binary_crossentropy\",\n",
    "             optimizer = \"adam\",\n",
    "             metrics=[\"accuracy\"])"
   ]
  },
  {
   "cell_type": "code",
   "execution_count": 19,
   "metadata": {
    "colab": {
     "base_uri": "https://localhost:8080/",
     "height": 68
    },
    "colab_type": "code",
    "id": "x9b5w3CE7qWL",
    "outputId": "7d3d41f4-c0a6-4420-bbdf-ce265a7fb1f4"
   },
   "outputs": [
    {
     "name": "stdout",
     "output_type": "stream",
     "text": [
      "Train on 23106 samples, validate on 1217 samples\n",
      "Epoch 1/2\n",
      "23106/23106 [==============================] - 997s 43ms/sample - loss: 0.0969 - acc: 0.9814 - val_loss: 0.0309 - val_acc: 0.9896\n",
      "Epoch 2/2\n",
      "23106/23106 [==============================] - 1012s 44ms/sample - loss: 0.0130 - acc: 0.9957 - val_loss: 0.0225 - val_acc: 0.9927\n"
     ]
    }
   ],
   "source": [
    "history = model.fit(X_train,y_train,epochs=2,batch_size=64,validation_split=0.05)"
   ]
  },
  {
   "cell_type": "code",
   "execution_count": 20,
   "metadata": {
    "colab": {
     "base_uri": "https://localhost:8080/",
     "height": 51
    },
    "colab_type": "code",
    "id": "-a1Eu1pOy37Z",
    "outputId": "822010a7-8fa7-434f-c74a-a756000e191d"
   },
   "outputs": [
    {
     "name": "stdout",
     "output_type": "stream",
     "text": [
      "8108/8108 [==============================] - 97s 12ms/sample - loss: 0.0213 - acc: 0.9932\n"
     ]
    },
    {
     "data": {
      "text/plain": [
       "[0.021312868603944896, 0.99315655]"
      ]
     },
     "execution_count": 20,
     "metadata": {},
     "output_type": "execute_result"
    }
   ],
   "source": [
    "model.evaluate(X_test,y_test)"
   ]
  },
  {
   "cell_type": "code",
   "execution_count": 21,
   "metadata": {
    "colab": {},
    "colab_type": "code",
    "id": "6Rkoqrl70Bv2"
   },
   "outputs": [],
   "source": [
    "model.save(\"model_C.h5\")"
   ]
  },
  {
   "cell_type": "code",
   "execution_count": 21,
   "metadata": {},
   "outputs": [],
   "source": [
    "import tensorflow as tf\n",
    "from tensorflow.keras.models import load_model"
   ]
  },
  {
   "cell_type": "code",
   "execution_count": 22,
   "metadata": {},
   "outputs": [
    {
     "name": "stdout",
     "output_type": "stream",
     "text": [
      "WARNING:tensorflow:From /usr/local/lib/python3.7/site-packages/tensorflow/python/ops/init_ops.py:97: calling GlorotUniform.__init__ (from tensorflow.python.ops.init_ops) with dtype is deprecated and will be removed in a future version.\n",
      "Instructions for updating:\n",
      "Call initializer instance with the dtype argument instead of passing it to the constructor\n",
      "WARNING:tensorflow:From /usr/local/lib/python3.7/site-packages/tensorflow/python/ops/init_ops.py:97: calling Zeros.__init__ (from tensorflow.python.ops.init_ops) with dtype is deprecated and will be removed in a future version.\n",
      "Instructions for updating:\n",
      "Call initializer instance with the dtype argument instead of passing it to the constructor\n"
     ]
    }
   ],
   "source": [
    "model = load_model(\"model_C.h5\")"
   ]
  },
  {
   "cell_type": "code",
   "execution_count": 25,
   "metadata": {},
   "outputs": [
    {
     "data": {
      "image/png": "[encoded data removed]",
      "text/plain": [
       "<IPython.core.display.Image object>"
      ]
     },
     "execution_count": 25,
     "metadata": {},
     "output_type": "execute_result"
    }
   ],
   "source": [
    "tf.keras.utils.plot_model(model, to_file='model.png')"
   ]
  },
  {
   "cell_type": "code",
   "execution_count": 27,
   "metadata": {},
   "outputs": [
    {
     "name": "stdout",
     "output_type": "stream",
     "text": [
      "Model: \"sequential\"\n",
      "_________________________________________________________________\n",
      "Layer (type)                 Output Shape              Param #   \n",
      "=================================================================\n",
      "conv2d (Conv2D)              (None, 238, 318, 64)      640       \n",
      "_________________________________________________________________\n",
      "activation (Activation)      (None, 238, 318, 64)      0         \n",
      "_________________________________________________________________\n",
      "max_pooling2d (MaxPooling2D) (None, 119, 159, 64)      0         \n",
      "_________________________________________________________________\n",
      "conv2d_1 (Conv2D)            (None, 117, 157, 64)      36928     \n",
      "_________________________________________________________________\n",
      "activation_1 (Activation)    (None, 117, 157, 64)      0         \n",
      "_________________________________________________________________\n",
      "max_pooling2d_1 (MaxPooling2 (None, 58, 78, 64)        0         \n",
      "_________________________________________________________________\n",
      "flatten (Flatten)            (None, 289536)            0         \n",
      "_________________________________________________________________\n",
      "dense (Dense)                (None, 75)                21715275  \n",
      "_________________________________________________________________\n",
      "dense_1 (Dense)              (None, 50)                3800      \n",
      "=================================================================\n",
      "Total params: 21,756,643\n",
      "Trainable params: 21,756,643\n",
      "Non-trainable params: 0\n",
      "_________________________________________________________________\n"
     ]
    }
   ],
   "source": [
    "model.summary()"
   ]
  },
  {
   "cell_type": "code",
   "execution_count": 28,
   "metadata": {},
   "outputs": [],
   "source": [
    "y_pred = model.predict(X_test)"
   ]
  },
  {
   "cell_type": "code",
   "execution_count": 29,
   "metadata": {},
   "outputs": [],
   "source": [
    "from sklearn.metrics import confusion_matrix"
   ]
  },
  {
   "cell_type": "code",
   "execution_count": 30,
   "metadata": {},
   "outputs": [],
   "source": [
    "matrix = confusion_matrix(y_test.argmax(axis=1), y_pred.argmax(axis=1))"
   ]
  },
  {
   "cell_type": "code",
   "execution_count": 31,
   "metadata": {},
   "outputs": [
    {
     "data": {
      "text/plain": [
       "array([[172,   0,   0, ...,   0,   0,   0],\n",
       "       [  0, 173,   0, ...,   0,   0,   1],\n",
       "       [  1,   1, 146, ...,   0,   0,   0],\n",
       "       ...,\n",
       "       [  0,   0,   0, ..., 144,   1,   4],\n",
       "       [  0,   0,   0, ...,   1, 157,   0],\n",
       "       [  0,   0,   0, ...,   7,   0, 141]])"
      ]
     },
     "execution_count": 31,
     "metadata": {},
     "output_type": "execute_result"
    }
   ],
   "source": [
    "matrix"
   ]
  },
  {
   "cell_type": "code",
   "execution_count": 32,
   "metadata": {},
   "outputs": [],
   "source": [
    "import seaborn as sn\n",
    "import pandas as pd\n",
    "import matplotlib.pyplot as plt"
   ]
  },
  {
   "cell_type": "code",
   "execution_count": 33,
   "metadata": {},
   "outputs": [
    {
     "data": {
      "text/plain": [
       "<matplotlib.axes._subplots.AxesSubplot at 0x18b346e90>"
      ]
     },
     "execution_count": 33,
     "metadata": {},
     "output_type": "execute_result"
    },
    {
     "data": {
      "image/png": "[encoded data removed]",
      "text/plain": [
       "<Figure size 720x504 with 2 Axes>"
      ]
     },
     "metadata": {
      "needs_background": "light"
     },
     "output_type": "display_data"
    }
   ],
   "source": [
    "plt.figure(figsize = (10,7))\n",
    "sn.heatmap(matrix)"
   ]
  },
  {
   "cell_type": "code",
   "execution_count": 37,
   "metadata": {},
   "outputs": [
    {
     "data": {
      "text/plain": [
       "<matplotlib.axes._subplots.AxesSubplot at 0x1455bee10>"
      ]
     },
     "execution_count": 37,
     "metadata": {},
     "output_type": "execute_result"
    },
    {
     "data": {
      "image/png": "[encoded data removed]",
      "text/plain": [
       "<Figure size 1440x504 with 1 Axes>"
      ]
     },
     "metadata": {
      "needs_background": "light"
     },
     "output_type": "display_data"
    }
   ],
   "source": [
    "plt.figure(figsize = (20,7))\n",
    "sn.countplot(x = y_lab)"
   ]
  },
  {
   "cell_type": "code",
   "execution_count": 41,
   "metadata": {},
   "outputs": [
    {
     "data": {
      "text/plain": [
       "(32431, 50)"
      ]
     },
     "execution_count": 41,
     "metadata": {},
     "output_type": "execute_result"
    }
   ],
   "source": [
    "y_enc.shape"
   ]
  }
 ],
 "metadata": {
  "colab": {
   "collapsed_sections": [],
   "name": "train_and_validate_C.ipynb",
   "provenance": []
  },
  "kernelspec": {
   "display_name": "Python 3",
   "language": "python",
   "name": "python3"
  },
  "language_info": {
   "codemirror_mode": {
    "name": "ipython",
    "version": 3
   },
   "file_extension": ".py",
   "mimetype": "text/x-python",
   "name": "python",
   "nbconvert_exporter": "python",
   "pygments_lexer": "ipython3",
   "version": "3.7.3"
  }
 },
 "nbformat": 4,
 "nbformat_minor": 4
}
